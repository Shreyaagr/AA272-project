{
 "cells": [
  {
   "cell_type": "code",
   "execution_count": 1,
   "id": "2e59a28f",
   "metadata": {},
   "outputs": [],
   "source": [
    "import numpy as np\n",
    "import pandas as pd\n",
    "import matplotlib.pyplot as plt\n",
    "from mpl_toolkits import mplot3d\n",
    "from math import *"
   ]
  },
  {
   "cell_type": "code",
   "execution_count": 2,
   "id": "c07a84cc",
   "metadata": {},
   "outputs": [],
   "source": [
    "def get_expected_pseudoranges(x_est, X, Y, Z, B):\n",
    "    p = np.zeros_like(X)\n",
    "    for i in range(len(X)):\n",
    "        p[i] = np.sqrt((X[i]-x_est[0])**2 +\n",
    "            (Y[i]-x_est[1])**2 + (Z[i]-x_est[2])**2) - B[i]\n",
    "    return p"
   ]
  },
  {
   "cell_type": "code",
   "execution_count": 3,
   "id": "b0e24394",
   "metadata": {},
   "outputs": [],
   "source": [
    "def get_geometry_matrix(x_est, X, Y, Z):\n",
    "    G = np.ones((len(X),4))\n",
    "    for i in range(len(X)):\n",
    "        d = np.sqrt((X[i]-x_est[0])**2 +\n",
    "            (Y[i]-x_est[1])**2 + (Z[i]-x_est[2])**2)\n",
    "        G[i,0] = -(X[i]-x_est[0])/d\n",
    "        G[i,1] = -(Y[i]-x_est[1])/d\n",
    "        G[i,2] = -(Z[i]-x_est[2])/d\n",
    "    return G"
   ]
  },
  {
   "cell_type": "code",
   "execution_count": 4,
   "id": "005172e7",
   "metadata": {},
   "outputs": [],
   "source": [
    "def solve_pos(x0, X, Y, Z, B, prange):\n",
    "    dxm = 100\n",
    "    x = x0\n",
    "    n = 0\n",
    "    while dxm>1:\n",
    "        G = get_geometry_matrix(x, X, Y, Z)\n",
    "        H = np.linalg.inv(np.matmul(G.T,G))\n",
    "        xdop = np.sqrt(H[0,0])\n",
    "        ydop = np.sqrt(H[1,1])\n",
    "        zdop = np.sqrt(H[2,2])\n",
    "        p_0 = get_expected_pseudoranges(x, X, Y, Z, B)\n",
    "        dp = prange - p_0\n",
    "        dx = np.matmul(np.matmul(np.linalg.inv(np.matmul(G.T,G)),G.T),dp)\n",
    "        dxm = np.linalg.norm(dx[:3])\n",
    "        x = x+dx[:3]\n",
    "        n += 1\n",
    "    return x, n,xdop,ydop,zdop"
   ]
  },
  {
   "cell_type": "code",
   "execution_count": 5,
   "id": "bbcab5dd",
   "metadata": {},
   "outputs": [],
   "source": [
    "def E_next(E,e,M):\n",
    "    return (e*(np.sin(E)-E*np.cos(E))+M)/(1-e*np.cos(E))"
   ]
  },
  {
   "cell_type": "code",
   "execution_count": 6,
   "id": "5bed528f",
   "metadata": {},
   "outputs": [],
   "source": [
    "def get_sat_ECEF(ephem, tx_time):\n",
    "    a = ephem['sqrtA']**2\n",
    "    mu = 3.986005E14\n",
    "    Omega_e = 7.2921151467E-5\n",
    "    n = np.sqrt(mu/a**3) + ephem['DeltaN']\n",
    "    t = tx_time\n",
    "    tk = t-float(ephem['Toe'])\n",
    "    if tk<-302400:\n",
    "        tk = tk+604800\n",
    "    elif tk>302400:\n",
    "        tk = tk-604800\n",
    "    Mk = ephem['M0'] + n*tk\n",
    "    e = ephem['Eccentricity']\n",
    "    Ek = Mk\n",
    "    for i in range(20):\n",
    "        Ek = E_next(Ek,e,Mk)\n",
    "    sinvk = np.sqrt(1-e**2)*np.sin(Ek)/(1-e*np.cos(Ek))\n",
    "    cosvk = (np.cos(Ek)-e)/(1-e*np.cos(Ek))\n",
    "    vk = atan2(sinvk,cosvk)\n",
    "    phik = vk + ephem['omega']\n",
    "    dphik = ephem['Cus']*np.sin(2*phik) + ephem['Cuc']*np.cos(2*phik)\n",
    "    uk = phik+dphik\n",
    "    drk = ephem['Crs']*np.sin(2*phik) + ephem['Crc']*np.cos(2*phik)\n",
    "    dik = ephem['Cis']*np.sin(2*phik) + ephem['Cic']*np.cos(2*phik)\n",
    "    Omegak = ephem['Omega0']-Omega_e*t+ephem['OmegaDot']*tk\n",
    "    rk = a*(1-e*np.cos(Ek))+drk\n",
    "    ik = ephem['Io']+ephem['IDOT']*tk+dik\n",
    "    xp = rk*np.cos(uk)\n",
    "    yp = rk*np.sin(uk)\n",
    "    x_ECEF = xp*np.cos(Omegak)-yp*np.cos(ik)*np.sin(Omegak)\n",
    "    y_ECEF = xp*np.sin(Omegak)+yp*np.cos(ik)*np.cos(Omegak)\n",
    "    z_ECEF = yp*np.sin(ik)\n",
    "    return x_ECEF,y_ECEF,z_ECEF,ephem['Svid']"
   ]
  },
  {
   "cell_type": "code",
   "execution_count": 7,
   "id": "9f6de336",
   "metadata": {},
   "outputs": [],
   "source": [
    "def lla_to_ecef_1(lat, lon, alt):\n",
    "    # see http://www.mathworks.de/help/toolbox/aeroblks/llatoecefposition.html\n",
    "    rad = np.float64(6378137.0)        # Radius of the Earth (in meters)\n",
    "    f = np.float64(1.0/298.257223563)  # Flattening factor WGS84 Model\n",
    "    cosLat = np.cos(lat*np.pi/180)\n",
    "    sinLat = np.sin(lat*np.pi/180)\n",
    "    FF     = (1.0-f)**2\n",
    "    C      = 1/np.sqrt(cosLat**2 + FF * sinLat**2)\n",
    "    S      = C * FF\n",
    "\n",
    "    x = (rad * C + alt)*cosLat * np.cos(lon*np.pi/180)\n",
    "    y = (rad * C + alt)*cosLat * np.sin(lon*np.pi/180)\n",
    "    z = (rad * S + alt)*sinLat\n",
    "    return x, y, z"
   ]
  },
  {
   "cell_type": "markdown",
   "id": "525e1381",
   "metadata": {},
   "source": [
    "### Relative positioning"
   ]
  },
  {
   "cell_type": "code",
   "execution_count": 8,
   "id": "d73b6ea5",
   "metadata": {},
   "outputs": [],
   "source": [
    "f = open('gnss_log_2022_03_07_19_43_57.txt')\n",
    "lat = []\n",
    "long = []\n",
    "alt = []\n",
    "for i in f.readlines():\n",
    "    a = i.split(',')\n",
    "    if a[0] == 'Fix':\n",
    "        lat.append(float(a[2]))\n",
    "        long. append(float(a[3]))\n",
    "        alt.append(float(a[4]))\n",
    "lat = np.array(lat)\n",
    "long = np.array(long)\n",
    "alt = np.array(alt)"
   ]
  },
  {
   "cell_type": "code",
   "execution_count": 9,
   "id": "510ed181",
   "metadata": {},
   "outputs": [],
   "source": [
    "f = open('gnss_log_2022_03_07_19_43_57.txt')\n",
    "rtime = []\n",
    "for i in f.readlines():\n",
    "    a = i.split(',')\n",
    "    if a[0] == 'Raw':\n",
    "        rtime.append(float(a[14]))\n",
    "rtime = np.round(np.array(rtime)*10**-9)"
   ]
  },
  {
   "cell_type": "code",
   "execution_count": 10,
   "id": "a13a3b70",
   "metadata": {},
   "outputs": [],
   "source": [
    "xe = np.zeros(len(lat))\n",
    "ye = np.zeros(len(lat))\n",
    "ze = np.zeros(len(lat))\n",
    "for i in range(len(lat)):\n",
    "    xe[i],ye[i],ze[i] = lla_to_ecef_1(lat[i],long[i],alt[i])"
   ]
  },
  {
   "cell_type": "code",
   "execution_count": 11,
   "id": "b0e56eef",
   "metadata": {},
   "outputs": [],
   "source": [
    "f = open('gnss_log_2022_03_07_19_45_15.txt')\n",
    "lat1 = []\n",
    "long1 = []\n",
    "alt1 = []\n",
    "for i in f.readlines():\n",
    "    a = i.split(',')\n",
    "    if a[0] == 'Fix':\n",
    "        lat1.append(float(a[2]))\n",
    "        long1. append(float(a[3]))\n",
    "        alt1.append(float(a[4]))\n",
    "lat1 = np.array(lat1)\n",
    "long1 = np.array(long1)\n",
    "alt1 = np.array(alt1)"
   ]
  },
  {
   "cell_type": "code",
   "execution_count": 12,
   "id": "a308de41",
   "metadata": {},
   "outputs": [],
   "source": [
    "f = open('gnss_log_2022_03_07_19_45_15.txt')\n",
    "rtime1 = []\n",
    "for i in f.readlines():\n",
    "    a = i.split(',')\n",
    "    if a[0] == 'Raw':\n",
    "        rtime1.append(float(a[14]))\n",
    "rtime1 = np.round(np.array(rtime1)*10**-9)"
   ]
  },
  {
   "cell_type": "code",
   "execution_count": 13,
   "id": "78706282",
   "metadata": {},
   "outputs": [],
   "source": [
    "xe1 = np.zeros(len(lat1))\n",
    "ye1 = np.zeros(len(lat1))\n",
    "ze1 = np.zeros(len(lat1))\n",
    "for i in range(len(lat1)):\n",
    "    xe1[i],ye1[i],ze1[i] = lla_to_ecef_1(lat1[i],long1[i],alt1[i])"
   ]
  },
  {
   "cell_type": "code",
   "execution_count": 14,
   "id": "53b13514",
   "metadata": {},
   "outputs": [],
   "source": [
    "f = open('gnss_log_2022_03_07_19_44_25.txt')\n",
    "lat2 = []\n",
    "long2 = []\n",
    "alt2 = []\n",
    "for i in f.readlines():\n",
    "    a = i.split(',')\n",
    "    if a[0] == 'Fix':\n",
    "        lat2.append(float(a[2]))\n",
    "        long2. append(float(a[3]))\n",
    "        alt2.append(float(a[4]))\n",
    "lat2 = np.array(lat2)\n",
    "long2 = np.array(long2)\n",
    "alt2 = np.array(alt2)"
   ]
  },
  {
   "cell_type": "code",
   "execution_count": 15,
   "id": "281e23bf",
   "metadata": {},
   "outputs": [],
   "source": [
    "xe2 = np.zeros(len(lat2))\n",
    "ye2 = np.zeros(len(lat2))\n",
    "ze2 = np.zeros(len(lat2))\n",
    "for i in range(len(lat2)):\n",
    "    xe2[i],ye2[i],ze2[i] = lla_to_ecef_1(lat2[i],long2[i],alt2[i])"
   ]
  },
  {
   "cell_type": "code",
   "execution_count": 16,
   "id": "02676cdb",
   "metadata": {},
   "outputs": [
    {
     "data": {
      "text/plain": [
       "10.125052145214994"
      ]
     },
     "execution_count": 16,
     "metadata": {},
     "output_type": "execute_result"
    }
   ],
   "source": [
    "np.linalg.norm(np.array([np.average(xe2)-np.average(xe1),np.average(ye2)-np.average(ye1),np.average(ze2)-np.average(ze1)]))"
   ]
  },
  {
   "cell_type": "markdown",
   "id": "7555d9e0",
   "metadata": {},
   "source": [
    "### Position estimation for different error modellings"
   ]
  },
  {
   "cell_type": "code",
   "execution_count": 17,
   "id": "6d63cdb1",
   "metadata": {},
   "outputs": [],
   "source": [
    "data1 = pd.read_csv('data1.csv')"
   ]
  },
  {
   "cell_type": "code",
   "execution_count": 18,
   "id": "2cf9a1e3",
   "metadata": {},
   "outputs": [],
   "source": [
    "data2 = pd.read_csv('data2.csv')"
   ]
  },
  {
   "cell_type": "code",
   "execution_count": 19,
   "id": "9a30b3b8",
   "metadata": {},
   "outputs": [],
   "source": [
    "truedata = pd.read_csv('goGPS_WLS.csv')"
   ]
  },
  {
   "cell_type": "code",
   "execution_count": 20,
   "id": "4a996e99",
   "metadata": {},
   "outputs": [
    {
     "data": {
      "text/plain": [
       "1739"
      ]
     },
     "execution_count": 20,
     "metadata": {},
     "output_type": "execute_result"
    }
   ],
   "source": [
    "times = np.array(list(set(data1['millisSinceGpsEpoch'])))\n",
    "len(times)"
   ]
  },
  {
   "cell_type": "code",
   "execution_count": 21,
   "id": "89badb62",
   "metadata": {},
   "outputs": [],
   "source": [
    "times = np.sort(times)"
   ]
  },
  {
   "cell_type": "code",
   "execution_count": 22,
   "id": "5a82d5a2",
   "metadata": {},
   "outputs": [],
   "source": [
    "time1 = data1[data1['millisSinceGpsEpoch']>=times[0]]\n",
    "X_ECEF = np.zeros(len(time1))\n",
    "Y_ECEF = np.zeros(len(time1))\n",
    "Z_ECEF = np.zeros(len(time1))"
   ]
  },
  {
   "cell_type": "code",
   "execution_count": 23,
   "id": "ee1633b2",
   "metadata": {},
   "outputs": [],
   "source": [
    "x_1 = np.zeros(3)\n",
    "x0 = np.array([0,0,0])\n",
    "nr_pos = np.zeros((len(times),3))\n",
    "XDOP = np.zeros(len(times))\n",
    "YDOP = np.zeros(len(times))\n",
    "ZDOP = np.zeros(len(times))\n",
    "for i in range(len(times)):\n",
    "    a = time1[time1['millisSinceGpsEpoch'] == times[i]]\n",
    "    X1 = np.array(a['xSatPosM'])\n",
    "    Y1 = np.array(a['ySatPosM'])\n",
    "    Z1 = np.array(a['zSatPosM'])\n",
    "    prange1 = np.array(a['rawPrM'])\n",
    "    B1 = np.array(a['satClkBiasM']) - np.array(a['isrbM']) - np.array(a['ionoDelayM']) - np.array(a['tropoDelayM'])\n",
    "    PRN1 = np.array(a['svid'])\n",
    "    x_1, q,xdop,ydop,zdop = solve_pos(x0, X1, Y1, Z1, B1, prange1)\n",
    "    nr_pos[i] = x_1\n",
    "    XDOP[i] = xdop\n",
    "    YDOP[i] = ydop\n",
    "    ZDOP[i] = zdop"
   ]
  },
  {
   "cell_type": "code",
   "execution_count": 24,
   "id": "ae306d96",
   "metadata": {},
   "outputs": [],
   "source": [
    "x_1 = np.zeros(3)\n",
    "x0 = np.array([0,0,0])\n",
    "nr_p = np.zeros((len(times),3))\n",
    "XDOP = np.zeros(len(times))\n",
    "YDOP = np.zeros(len(times))\n",
    "ZDOP = np.zeros(len(times))\n",
    "for i in range(len(times)):\n",
    "    a = time1[time1['millisSinceGpsEpoch'] == times[i]]\n",
    "    X1 = np.array(a['xSatPosM'])\n",
    "    Y1 = np.array(a['ySatPosM'])\n",
    "    Z1 = np.array(a['zSatPosM'])\n",
    "    prange1 = np.array(a['rawPrM'])\n",
    "    B1 = np.array(a['satClkBiasM'])\n",
    "    PRN1 = np.array(a['svid'])\n",
    "    x_1, q,xdop,ydop,zdop = solve_pos(x0, X1, Y1, Z1, B1, prange1)\n",
    "    nr_p[i] = x_1\n",
    "    XDOP[i] = xdop\n",
    "    YDOP[i] = ydop\n",
    "    ZDOP[i] = zdop"
   ]
  },
  {
   "cell_type": "code",
   "execution_count": 25,
   "id": "c143ad01",
   "metadata": {},
   "outputs": [],
   "source": [
    "A = pd.DataFrame(nr_pos, columns=['X','Y','Z'])"
   ]
  },
  {
   "cell_type": "code",
   "execution_count": 26,
   "id": "b440d815",
   "metadata": {},
   "outputs": [],
   "source": [
    "A['time'] = np.round(times*10**-3)\n",
    "A['xdop'] = XDOP\n",
    "A['ydop'] = YDOP\n",
    "A['zdop'] = ZDOP"
   ]
  },
  {
   "cell_type": "code",
   "execution_count": 27,
   "id": "a6bbb948",
   "metadata": {},
   "outputs": [],
   "source": [
    "A.to_csv('nr.csv')"
   ]
  },
  {
   "cell_type": "code",
   "execution_count": 28,
   "id": "ae79a676",
   "metadata": {},
   "outputs": [],
   "source": [
    "xb2 = x_1.copy()"
   ]
  },
  {
   "cell_type": "code",
   "execution_count": 29,
   "id": "578d12e4",
   "metadata": {},
   "outputs": [],
   "source": [
    "def error1(s1,x1,X,Y,Z,prange,B,prn):\n",
    "    r1 = np.sqrt((x1[0]-X)**2+(x1[1]-Y)**2+(x1[2]-Z)**2)\n",
    "    e1 = prange - r1\n",
    "    e = {}\n",
    "    for i in range(len(X)):\n",
    "        e[prn[i]] = e1[i]\n",
    "    return e"
   ]
  },
  {
   "cell_type": "code",
   "execution_count": 30,
   "id": "2214116a",
   "metadata": {},
   "outputs": [],
   "source": [
    "def correct1(s2,e,X,Y,Z,prange,B,prn):\n",
    "    p2 = prange.copy()\n",
    "    j = []\n",
    "    for i in range(len(X)):\n",
    "        try:\n",
    "            p2[i] = prange[i] - 0.01*e[prn[i]]\n",
    "        except:\n",
    "            j.append(i)\n",
    "    for i in j:\n",
    "        X = np.delete(X,i)\n",
    "        Y = np.delete(Y,i)\n",
    "        Z = np.delete(Z,i)\n",
    "        B = np.delete(B,i)\n",
    "        p2 = np.delete(p2,i)\n",
    "    x2, _ ,_,_,_= solve_pos(x0, X, Y, Z, B, p2)\n",
    "    return x2,p2"
   ]
  },
  {
   "cell_type": "code",
   "execution_count": 31,
   "id": "f5ba9e03",
   "metadata": {},
   "outputs": [],
   "source": [
    "def each_step1(x1,x2):\n",
    "    e1 = error1(1,x1,X1,Y1,Z1,prange1,B1,PRN1)\n",
    "    e2 = error1(2,x2,X2,Y2,Z2,prange2,B2,PRN2)\n",
    "    for i in e1.keys():\n",
    "        for j in e2.keys():\n",
    "            if i==j:\n",
    "                e1[i] = e2[j]\n",
    "    x11,pr1 = correct1(1,e1,X1,Y1,Z1,prange1,B1,PRN1)\n",
    "    x21,pr2 = x2,prange2\n",
    "    return x11,x21,pr1,pr2"
   ]
  },
  {
   "cell_type": "code",
   "execution_count": 32,
   "id": "d7c417fc",
   "metadata": {},
   "outputs": [],
   "source": [
    "def each_step2(x1,x2):\n",
    "    e1 = error1(1,x1,X1,Y1,Z1,prange1,B1,PRN1)\n",
    "    e2 = error1(2,x2,X2,Y2,Z2,prange2,B2,PRN2)\n",
    "    for i in e1.keys():\n",
    "        for j in e2.keys():\n",
    "            if i==j:\n",
    "                e = e1[i]\n",
    "                e1[i] = e2[j]\n",
    "                e2[j] = e\n",
    "    x11,pr1 = correct1(1,e1,X1,Y1,Z1,prange1,B1,PRN1)\n",
    "    x21,pr2 = correct1(2,e2,X2,Y2,Z2,prange2,B2,PRN2)\n",
    "    return x11,x21,pr1,pr2"
   ]
  },
  {
   "cell_type": "code",
   "execution_count": 33,
   "id": "fa67eafa",
   "metadata": {},
   "outputs": [],
   "source": [
    "def each_step3(x1,x2):\n",
    "    e1 = error1(1,x1,X1,Y1,Z1,prange1,B1,PRN1)\n",
    "    e2 = error1(2,x2,X2,Y2,Z2,prange2,B2,PRN2)\n",
    "    for i in e1.keys():\n",
    "        for j in e2.keys():\n",
    "            if i==j:\n",
    "                e = (e1[i]+e2[j])/2\n",
    "                e1[i] = e\n",
    "                e2[j] = e\n",
    "    x11,pr1 = correct1(1,e1,X1,Y1,Z1,prange1,B1,PRN1)\n",
    "    x21,pr2 = correct1(2,e2,X2,Y2,Z2,prange2,B2,PRN2)\n",
    "    return x11,x21,pr1,pr2"
   ]
  },
  {
   "cell_type": "code",
   "execution_count": 34,
   "id": "1087f4bf",
   "metadata": {},
   "outputs": [],
   "source": [
    "def each_step4(x1,x2):\n",
    "    e1 = error1(1,x1,X1,Y1,Z1,prange1,B1,PRN1)\n",
    "    e2 = error1(2,x2,X2,Y2,Z2,prange2,B2,PRN2)\n",
    "    for i in e1.keys():\n",
    "        for j in e2.keys():\n",
    "            if i==j:\n",
    "                e = (e1[i]-e2[j])/2\n",
    "                e1[i] = e\n",
    "                e2[j] = -e\n",
    "    x11,pr1 = correct1(1,e1,X1,Y1,Z1,prange1,B1,PRN1)\n",
    "    x21,pr2 = correct1(2,e2,X2,Y2,Z2,prange2,B2,PRN2)\n",
    "    return x11,x21,pr1,pr2"
   ]
  },
  {
   "cell_type": "code",
   "execution_count": 35,
   "id": "662c1375",
   "metadata": {},
   "outputs": [],
   "source": [
    "x_true = np.array([truedata['ECEF X[m]'],truedata['ECEF Y[m]'],truedata['ECEF Z[m]']]).T"
   ]
  },
  {
   "cell_type": "code",
   "execution_count": 48,
   "id": "0a3d28c5",
   "metadata": {},
   "outputs": [],
   "source": [
    "b = 25"
   ]
  },
  {
   "cell_type": "code",
   "execution_count": 50,
   "id": "da281915",
   "metadata": {},
   "outputs": [
    {
     "name": "stdout",
     "output_type": "stream",
     "text": [
      "1047.201113611566\n",
      "1121.3278679131847\n"
     ]
    }
   ],
   "source": [
    "nr1_aft = np.zeros_like(nr_p)\n",
    "for i in range(len(times[:300])):\n",
    "    t1 = time1[time1['millisSinceGpsEpoch'] == times[i]]\n",
    "    t2 = time1[time1['millisSinceGpsEpoch'] == times[b]]\n",
    "    X1 = np.array(t1['xSatPosM'])\n",
    "    Y1 = np.array(t1['ySatPosM'])\n",
    "    Z1 = np.array(t1['zSatPosM'])\n",
    "    prange1 = np.array(t1['rawPrM'])\n",
    "    B1 = np.array(t1['satClkBiasM'])\n",
    "    PRN1 = np.array(t1['svid'])\n",
    "    X2 = np.array(t2['xSatPosM'])\n",
    "    Y2 = np.array(t2['ySatPosM'])\n",
    "    Z2 = np.array(t2['zSatPosM'])\n",
    "    prange2 = np.array(t2['rawPrM'])\n",
    "    B2 = np.array(t2['satClkBiasM'])\n",
    "    PRN2 = np.array(t2['svid'])\n",
    "    x1 = nr_p[i]\n",
    "    x2 = nr_p[b]\n",
    "    for j in range(10):\n",
    "        x1,x2,_,_ = each_step1(x1,x2)\n",
    "    nr1_aft[i] = x1\n",
    "err = np.zeros(len(nr_p[:300]))\n",
    "for i in range(len(nr_p[:300])):\n",
    "    err[i] = np.linalg.norm(nr_p[i]-x_true[i])\n",
    "err = err[np.isnan(err)!=True]\n",
    "print(np.average(err))\n",
    "err_1 = np.zeros(len(nr1_aft[:300]))\n",
    "for i in range(len(nr1_aft[:300])):\n",
    "    err_1[i] = np.linalg.norm(nr1_aft[i]-x_true[i])\n",
    "err_1 = err_1[np.isnan(err_1)!=True]\n",
    "print(np.average(err_1))"
   ]
  },
  {
   "cell_type": "code",
   "execution_count": 39,
   "id": "5e854034",
   "metadata": {},
   "outputs": [
    {
     "name": "stdout",
     "output_type": "stream",
     "text": [
      "1047.201113611566\n",
      "1126.4050637917785\n"
     ]
    }
   ],
   "source": [
    "nr1_aft = np.zeros_like(nr_p)\n",
    "for i in range(len(times[:300])):\n",
    "    t1 = time1[time1['millisSinceGpsEpoch'] == times[i]]\n",
    "    t2 = time1[time1['millisSinceGpsEpoch'] == times[b]]\n",
    "    X1 = np.array(t1['xSatPosM'])\n",
    "    Y1 = np.array(t1['ySatPosM'])\n",
    "    Z1 = np.array(t1['zSatPosM'])\n",
    "    prange1 = np.array(t1['rawPrM'])\n",
    "    B1 = np.array(t1['satClkBiasM'])\n",
    "    PRN1 = np.array(t1['svid'])\n",
    "    X2 = np.array(t2['xSatPosM'])\n",
    "    Y2 = np.array(t2['ySatPosM'])\n",
    "    Z2 = np.array(t2['zSatPosM'])\n",
    "    prange2 = np.array(t2['rawPrM'])\n",
    "    B2 = np.array(t2['satClkBiasM'])\n",
    "    PRN2 = np.array(t2['svid'])\n",
    "    x1 = nr_p[i]\n",
    "    x2 = nr_p[b]\n",
    "    for j in range(10):\n",
    "        x1,x2,_,_ = each_step2(x1,x2)\n",
    "    nr1_aft[i] = x1\n",
    "err = np.zeros(len(nr_p[:300]))\n",
    "for i in range(len(nr_p[:300])):\n",
    "    err[i] = np.linalg.norm(nr_p[i]-x_true[i])\n",
    "err = err[np.isnan(err)!=True]\n",
    "print(np.average(err))\n",
    "err_1 = np.zeros(len(nr1_aft[:300]))\n",
    "for i in range(len(nr1_aft[:300])):\n",
    "    err_1[i] = np.linalg.norm(nr1_aft[i]-x_true[i])\n",
    "err_1 = err_1[np.isnan(err_1)!=True]\n",
    "print(np.average(err_1))"
   ]
  },
  {
   "cell_type": "code",
   "execution_count": 40,
   "id": "40d13002",
   "metadata": {},
   "outputs": [
    {
     "name": "stdout",
     "output_type": "stream",
     "text": [
      "1047.201113611566\n",
      "1162.0563540300402\n"
     ]
    }
   ],
   "source": [
    "nr1_aft = np.zeros_like(nr_p)\n",
    "for i in range(len(times[:300])):\n",
    "    t1 = time1[time1['millisSinceGpsEpoch'] == times[i]]\n",
    "    t2 = time1[time1['millisSinceGpsEpoch'] == times[b]]\n",
    "    X1 = np.array(t1['xSatPosM'])\n",
    "    Y1 = np.array(t1['ySatPosM'])\n",
    "    Z1 = np.array(t1['zSatPosM'])\n",
    "    prange1 = np.array(t1['rawPrM'])\n",
    "    B1 = np.array(t1['satClkBiasM'])\n",
    "    PRN1 = np.array(t1['svid'])\n",
    "    X2 = np.array(t2['xSatPosM'])\n",
    "    Y2 = np.array(t2['ySatPosM'])\n",
    "    Z2 = np.array(t2['zSatPosM'])\n",
    "    prange2 = np.array(t2['rawPrM'])\n",
    "    B2 = np.array(t2['satClkBiasM'])\n",
    "    PRN2 = np.array(t2['svid'])\n",
    "    x1 = nr_p[i]\n",
    "    x2 = nr_p[b]\n",
    "    for j in range(10):\n",
    "        x1,x2,_,_ = each_step3(x1,x2)\n",
    "    nr1_aft[i] = x1\n",
    "err = np.zeros(len(nr_p[:300]))\n",
    "for i in range(len(nr_p[:300])):\n",
    "    err[i] = np.linalg.norm(nr_p[i]-x_true[i])\n",
    "err = err[np.isnan(err)!=True]\n",
    "print(np.average(err))\n",
    "err_1 = np.zeros(len(nr1_aft[:300]))\n",
    "for i in range(len(nr1_aft[:300])):\n",
    "    err_1[i] = np.linalg.norm(nr1_aft[i]-x_true[i])\n",
    "err_1 = err_1[np.isnan(err_1)!=True]\n",
    "print(np.average(err_1))"
   ]
  },
  {
   "cell_type": "code",
   "execution_count": 41,
   "id": "f73ceb83",
   "metadata": {},
   "outputs": [
    {
     "name": "stdout",
     "output_type": "stream",
     "text": [
      "1047.201113611566\n",
      "929.9246912665119\n"
     ]
    }
   ],
   "source": [
    "nr1_aft = np.zeros_like(nr_p)\n",
    "for i in range(len(times[:300])):\n",
    "    t1 = time1[time1['millisSinceGpsEpoch'] == times[i]]\n",
    "    t2 = time1[time1['millisSinceGpsEpoch'] == times[b]]\n",
    "    X1 = np.array(t1['xSatPosM'])\n",
    "    Y1 = np.array(t1['ySatPosM'])\n",
    "    Z1 = np.array(t1['zSatPosM'])\n",
    "    prange1 = np.array(t1['rawPrM'])\n",
    "    B1 = np.array(t1['satClkBiasM'])\n",
    "    PRN1 = np.array(t1['svid'])\n",
    "    X2 = np.array(t2['xSatPosM'])\n",
    "    Y2 = np.array(t2['ySatPosM'])\n",
    "    Z2 = np.array(t2['zSatPosM'])\n",
    "    prange2 = np.array(t2['rawPrM'])\n",
    "    B2 = np.array(t2['satClkBiasM'])\n",
    "    PRN2 = np.array(t2['svid'])\n",
    "    x1 = nr_p[i]\n",
    "    x2 = nr_p[b]\n",
    "    for j in range(10):\n",
    "        x1,x2,_,_ = each_step4(x1,x2)\n",
    "    nr1_aft[i] = x1\n",
    "err = np.zeros(len(nr_p[:300]))\n",
    "for i in range(len(nr_p[:300])):\n",
    "    err[i] = np.linalg.norm(nr_p[i]-x_true[i])\n",
    "err = err[np.isnan(err)!=True]\n",
    "print(np.average(err))\n",
    "err_1 = np.zeros(len(nr1_aft[:300]))\n",
    "for i in range(len(nr1_aft[:300])):\n",
    "    err_1[i] = np.linalg.norm(nr1_aft[i]-x_true[i])\n",
    "err_1 = err_1[np.isnan(err_1)!=True]\n",
    "print(np.average(err_1))"
   ]
  },
  {
   "cell_type": "code",
   "execution_count": 42,
   "id": "a6fac842",
   "metadata": {},
   "outputs": [],
   "source": [
    "B = pd.DataFrame()"
   ]
  },
  {
   "cell_type": "markdown",
   "id": "b4409fe0",
   "metadata": {},
   "source": [
    "### Alternate approach"
   ]
  },
  {
   "cell_type": "code",
   "execution_count": 43,
   "id": "b8145dc5",
   "metadata": {},
   "outputs": [],
   "source": [
    "x_1 = np.zeros(3)\n",
    "x0 = np.array([0,0,0])\n",
    "nr1 = np.zeros((len(times),3))\n",
    "nr2 = np.zeros((len(times),3))\n",
    "for i in range(len(times)):\n",
    "    a = time1[time1['millisSinceGpsEpoch'] == times[i]]\n",
    "    b = a.copy()\n",
    "    half = int(len(a)/2)\n",
    "    if half>3:\n",
    "        a = a[:half]\n",
    "    X1 = np.array(a['xSatPosM'])\n",
    "    Y1 = np.array(a['ySatPosM'])\n",
    "    Z1 = np.array(a['zSatPosM'])\n",
    "    prange1 = np.array(a['rawPrM'])\n",
    "    B1 = np.array(a['satClkBiasM'])\n",
    "    PRN1 = np.array(a['svid'])\n",
    "    x_1, _,_,_,_ = solve_pos(x0, X1, Y1, Z1, B1, prange1)\n",
    "    nr1[i] = x_1\n",
    "    \n",
    "    if half>3:\n",
    "        a = b[half:]\n",
    "    X1 = np.array(a['xSatPosM'])\n",
    "    Y1 = np.array(a['ySatPosM'])\n",
    "    Z1 = np.array(a['zSatPosM'])\n",
    "    prange1 = np.array(a['rawPrM'])\n",
    "    B1 = np.array(a['satClkBiasM'])\n",
    "    PRN1 = np.array(a['svid'])\n",
    "    x_1, _ ,_,_,_= solve_pos(x0, X1, Y1, Z1, B1, prange1)\n",
    "    nr2[i] = x_1"
   ]
  },
  {
   "cell_type": "code",
   "execution_count": 44,
   "id": "5dc975bf",
   "metadata": {},
   "outputs": [
    {
     "name": "stdout",
     "output_type": "stream",
     "text": [
      "1239.6923020377005\n",
      "1647.7097836769456\n"
     ]
    }
   ],
   "source": [
    "nr1_aft = np.zeros_like(nr1)\n",
    "for i in range(len(times[:300])):\n",
    "    a = time1[time1['millisSinceGpsEpoch'] == times[i]]\n",
    "    h = int(len(a)/2)\n",
    "    t1 = a[:h]\n",
    "    t2 = a[h:]\n",
    "    X1 = np.array(t1['xSatPosM'])\n",
    "    Y1 = np.array(t1['ySatPosM'])\n",
    "    Z1 = np.array(t1['zSatPosM'])\n",
    "    prange1 = np.array(t1['rawPrM'])\n",
    "    B1 = np.array(t1['satClkBiasM'])\n",
    "    PRN1 = np.array(t1['svid'])\n",
    "    X2 = np.array(t2['xSatPosM'])\n",
    "    Y2 = np.array(t2['ySatPosM'])\n",
    "    Z2 = np.array(t2['zSatPosM'])\n",
    "    prange2 = np.array(t2['rawPrM'])\n",
    "    B2 = np.array(t2['satClkBiasM'])\n",
    "    PRN2 = np.array(t2['svid'])\n",
    "    x1 = nr1[i]\n",
    "    x2 = nr2[i]\n",
    "    for j in range(10):\n",
    "        x1,x2,_,_ = each_step2(x1,x2)\n",
    "    nr1_aft[i] = x1\n",
    "err = np.zeros(len(nr1[:300]))\n",
    "for i in range(len(nr1[:300])):\n",
    "    err[i] = np.linalg.norm(nr1[i]-x_true[i])\n",
    "err = err[np.isnan(err)!=True]\n",
    "print(np.average(err))\n",
    "err_1 = np.zeros(len(nr1_aft[:300]))\n",
    "for i in range(len(nr1_aft[:300])):\n",
    "    err_1[i] = np.linalg.norm(nr1_aft[i]-x_true[i])\n",
    "err_1 = err_1[np.isnan(err_1)!=True]\n",
    "print(np.average(err_1))"
   ]
  },
  {
   "cell_type": "code",
   "execution_count": null,
   "id": "94dea36f",
   "metadata": {},
   "outputs": [],
   "source": []
  }
 ],
 "metadata": {
  "kernelspec": {
   "display_name": "Python 3",
   "language": "python",
   "name": "python3"
  },
  "language_info": {
   "codemirror_mode": {
    "name": "ipython",
    "version": 3
   },
   "file_extension": ".py",
   "mimetype": "text/x-python",
   "name": "python",
   "nbconvert_exporter": "python",
   "pygments_lexer": "ipython3",
   "version": "3.8.8"
  }
 },
 "nbformat": 4,
 "nbformat_minor": 5
}
